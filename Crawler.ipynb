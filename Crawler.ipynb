{
 "cells": [
  {
   "cell_type": "code",
   "execution_count": null,
   "metadata": {
    "collapsed": true
   },
   "outputs": [],
   "source": [
    "# Initial definitions\n",
    "import asyncio\n",
    "from tqdm import tqdm, tqdm_notebook\n",
    "import logging\n",
    "logger = logging.getLogger()\n",
    "logger.disabled = True\n",
    "\n",
    "from crawler.crawl import crawl\n",
    "\n",
    "def crawl_sites(urls):\n",
    "    loop = asyncio.get_event_loop()\n",
    "    pbar = tqdm(total=len(urls))\n",
    "    results = []\n",
    "    for url in urls:\n",
    "        pbar.set_description(f'crawling: {url}')\n",
    "        try:\n",
    "            sitemap, findings = loop.run_until_complete(crawl(url, '', max_time_secs=15))\n",
    "            results.append(\n",
    "                f'{url}, {str(len(findings[\"zendesk\"]))}, {str(len(findings[\"salesforce\"]))}'\n",
    "            )\n",
    "        except Exception as e:\n",
    "            results.append( f'{url}, ERROR, ERROR')\n",
    "#             print(f'{url}, ERROR, ERROR')\n",
    "#             raise e\n",
    "        pbar.update(1)\n",
    "    print('url, zendesk findings, salesforce findings')\n",
    "    print('\\n'.join(results))"
   ]
  },
  {
   "cell_type": "code",
   "execution_count": null,
   "metadata": {},
   "outputs": [],
   "source": [
    "from datetime import datetime\n",
    "n = datetime.now()\n",
    "crawl_sites(\n",
    "    [\n",
    "        \n",
    "\n",
    "    ]\n",
    ")\n",
    "t = datetime.now()\n",
    "print(t - n)"
   ]
  },
  {
   "cell_type": "code",
   "execution_count": null,
   "metadata": {},
   "outputs": [],
   "source": []
  },
  {
   "cell_type": "code",
   "execution_count": null,
   "metadata": {},
   "outputs": [],
   "source": []
  },
  {
   "cell_type": "code",
   "execution_count": null,
   "metadata": {
    "collapsed": true
   },
   "outputs": [],
   "source": []
  }
 ],
 "metadata": {
  "kernelspec": {
   "display_name": "Python 3",
   "language": "python",
   "name": "python3"
  },
  "language_info": {
   "codemirror_mode": {
    "name": "ipython",
    "version": 3
   },
   "file_extension": ".py",
   "mimetype": "text/x-python",
   "name": "python",
   "nbconvert_exporter": "python",
   "pygments_lexer": "ipython3",
   "version": "3.6.0rc2"
  }
 },
 "nbformat": 4,
 "nbformat_minor": 2
}
